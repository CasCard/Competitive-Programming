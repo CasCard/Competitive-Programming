{
 "cells": [
  {
   "cell_type": "markdown",
   "source": [
    "You are given some ranges [l, r] and a pseudocode to check whether i exists in the range or not. The pseudocode:\n",
    "\n",
    "```\n",
    "while(l < r) {\n",
    "    int m = (l+r)/2\n",
    "    if(i < m) {\n",
    "        r = m-1;\n",
    "    } else if(i > m) {\n",
    "        l = m+1;\n",
    "    } else {\n",
    "        cout << \"Found\";\n",
    "        break;\n",
    "    }\n",
    "```\n",
    "You need to find the probability that the psudocode will fail. For example, given range [2, 9], the probability that it will fail is 1/2, since 2, 4, 6 and 9 will not be found with the code and total number of elements is 8, so probability 4/8 = 1/2. You have to answer the queries modulo 10^9+7, so the final answer for the above range would be 500000004. The input is a 2D array where each element array is of size 2 denoting the range [l, r].\n",
    "\n",
    "1 <= l <= r <= 10^6 for each query.\n",
    "\n",
    "The input consists of a 2d array."
   ],
   "metadata": {
    "collapsed": false,
    "pycharm": {
     "name": "#%% md\n"
    }
   }
  },
  {
   "cell_type": "code",
   "execution_count": null,
   "outputs": [],
   "source": [
    "test_casei=[\n",
    "    [2,3],\n",
    "    [4,9]\n",
    "] // [2,9] 2 ,3 4 ,5,6,7,8,9"
   ],
   "metadata": {
    "collapsed": false,
    "pycharm": {
     "name": "#%%\n"
    }
   }
  },
  {
   "cell_type": "code",
   "execution_count": 10,
   "outputs": [
    {
     "name": "stdout",
     "output_type": "stream",
     "text": [
      "500000004\n",
      "280311812\n",
      "236426\n",
      "2\n",
      "2\n"
     ]
    }
   ],
   "source": [
    "# Python3 program to implement\n",
    "# the above approach\n",
    "from collections import defaultdict\n",
    "MOD = 1000000007\n",
    "\n",
    "# Iterative Function to\n",
    "# calculate (x^y) % MOD\n",
    "def modPower(x, y):\n",
    "\n",
    "    # Initialize result\n",
    "    res = 1\n",
    "\n",
    "    # Update x if it exceeds\n",
    "    # MOD\n",
    "    x = x % MOD\n",
    "\n",
    "    # If x is divisible by\n",
    "    # MOD\n",
    "    if (x == 0):\n",
    "        return 0\n",
    "\n",
    "    while (y > 0):\n",
    "\n",
    "        # If y is odd\n",
    "        if (y & 1):\n",
    "\n",
    "            # Multiply x with res\n",
    "            res = (res * x) % MOD\n",
    "\n",
    "        # y must be even now\n",
    "        y = y // 2\n",
    "        x = (x * x) % MOD\n",
    "\n",
    "    print(res)\n",
    "\n",
    "    return res\n",
    "\n",
    "# Function to count number\n",
    "# of pairs whose product\n",
    "# modulo 1000000007 is 1\n",
    "def countPairs(arr, N):\n",
    "\n",
    "    # Stores the count of\n",
    "    # desired pairs\n",
    "    pairCount = 0\n",
    "\n",
    "    # Stores the frequencies of\n",
    "    # each array element\n",
    "    hash1 = defaultdict(int)\n",
    "\n",
    "    # Traverse the array and\n",
    "    # update frequencies in hash\n",
    "    for i in range(N):\n",
    "        hash1[arr[i]] += 1\n",
    "\n",
    "    for i in range(N):\n",
    "\n",
    "        # Calculate modular inverse\n",
    "        # of arr[i] under modulo\n",
    "        # 1000000007\n",
    "        modularInverse = modPower(arr[i],\n",
    "                                  MOD - 2)\n",
    "\n",
    "        # Update desired count of pairs\n",
    "        pairCount += hash1[modularInverse]\n",
    "\n",
    "        # If arr[i] and its modular\n",
    "        # inverse is equal under\n",
    "        # modulo MOD\n",
    "        if (arr[i] == modularInverse):\n",
    "\n",
    "            # Updating count of\n",
    "            # desired pairs\n",
    "            pairCount -= 1\n",
    "\n",
    "    # Return the final count\n",
    "    return pairCount // 2\n",
    "\n",
    "\n",
    "arr = [2, 236426,\n",
    "       280311812,\n",
    "       500000004]\n",
    "N = len(arr)\n",
    "print(countPairs(arr, N))"
   ],
   "metadata": {
    "collapsed": false,
    "pycharm": {
     "name": "#%%\n"
    }
   }
  },
  {
   "cell_type": "code",
   "execution_count": null,
   "outputs": [],
   "source": [],
   "metadata": {
    "collapsed": false,
    "pycharm": {
     "name": "#%%\n"
    }
   }
  },
  {
   "cell_type": "code",
   "execution_count": null,
   "outputs": [],
   "source": [],
   "metadata": {
    "collapsed": false,
    "pycharm": {
     "name": "#%%\n"
    }
   }
  },
  {
   "cell_type": "markdown",
   "source": [
    "Question 2\n",
    "\n",
    "You are given a string A, which only consists of characters 'R' and 'G'. You need to pick 4 elements such that they form a good subsequence. A good subsequence is defined as substrings in which there are 2 'G' followed by 2 'R' or vice versa, namely \"RRGG\" or \"GGRR\". You need to find the number of ways in which you can get good subsequences from the string.\n",
    "\n",
    "1 <= |A| <= 10^6\n",
    "\n",
    "Input consists of the string A."
   ],
   "metadata": {
    "collapsed": false,
    "pycharm": {
     "name": "#%% md\n"
    }
   }
  },
  {
   "cell_type": "code",
   "execution_count": 4,
   "outputs": [
    {
     "name": "stdout",
     "output_type": "stream",
     "text": [
      "GRGGRGR\n",
      "{'G': [0, 2, 3, 5], 'R': [1, 4, 6]}\n"
     ]
    }
   ],
   "source": [
    "test_case_1 = \"GRGGRGR\" # this has 6 good subsequences\n",
    "\n",
    "print(test_case_1)\n",
    "# find store index of 'G' and 'R' of test_case_1 in dictonary\n",
    "store_index = {\n",
    "    'G': [],\n",
    "    'R': []\n",
    "}\n",
    "for i in range(len(test_case_1)):\n",
    "    if test_case_1[i] == 'G':\n",
    "        store_index['G'] += [i]\n",
    "    elif test_case_1[i] == 'R':\n",
    "        store_index['R'] += [i]\n",
    "\n",
    "print(store_index)"
   ],
   "metadata": {
    "collapsed": false,
    "pycharm": {
     "name": "#%%\n"
    }
   }
  },
  {
   "cell_type": "code",
   "execution_count": 60,
   "outputs": [
    {
     "name": "stdout",
     "output_type": "stream",
     "text": [
      "30\n"
     ]
    }
   ],
   "source": [
    "test_case_2 = \"RRGRGGGRRR\" # this has 30 good subsequences\n",
    "\n",
    "substring_A = \"RRGG\"\n",
    "substring_B = \"GGRR\"\n",
    "\n",
    "# test_case_2 = \"GRGGRGR\" # this has 30 good subsequences\n",
    "# substring_A = \"RRGG\"\n",
    "\n",
    "# test_case_2 = \"subsequence\" # this has 30 good subsequences\n",
    "# substring_A = \"sue\"\n",
    "\n",
    "# create a table of size (len(test_case_2) + 1) * 5)\n",
    "def find_subsequence(test_case,substring):\n",
    "    table = [[0 for i in range(len(substring)+1)] for j in range(len(test_case) + 1)]\n",
    "\n",
    "    # make the first column as 1\n",
    "    for i in range(len(test_case)):\n",
    "        table[i][0] = 1\n",
    "\n",
    "    for i in range(1,len(test_case)+1):\n",
    "        for j in range(1,len(substring)+1):\n",
    "            if test_case[i-1] == substring[j-1]:\n",
    "                table[i][j] = table[i-1][j-1] + table[i-1][j]\n",
    "            else:\n",
    "                table[i][j] = table[i-1][j]\n",
    "\n",
    "    # print(*table, sep='\\n')\n",
    "    return table[len(test_case)][len(substring)]\n",
    "\n",
    "print(find_subsequence(test_case_2,substring_A)+find_subsequence(test_case_2,substring_B))"
   ],
   "metadata": {
    "collapsed": false,
    "pycharm": {
     "name": "#%%\n"
    }
   }
  },
  {
   "cell_type": "code",
   "execution_count": 66,
   "outputs": [
    {
     "name": "stdout",
     "output_type": "stream",
     "text": [
      "0\n"
     ]
    }
   ],
   "source": [
    "S1 = \"grggrgr\" # this has 30 good subsequences\n",
    "S2 = \"rrgg\"\n",
    "m = len(S1)\n",
    "n = len(S2)\n",
    "count = [0 for i in range(n+1)]\n",
    "for i in range(m):\n",
    "    for j in range(n-1, -1, -1):\n",
    "        if S1[i] == S2[j]:\n",
    "            count[j] += 1 if j == 0 else count[j-1]\n",
    "print(count[n-1])"
   ],
   "metadata": {
    "collapsed": false,
    "pycharm": {
     "name": "#%%\n"
    }
   }
  },
  {
   "cell_type": "code",
   "execution_count": null,
   "outputs": [],
   "source": [],
   "metadata": {
    "collapsed": false,
    "pycharm": {
     "name": "#%%\n"
    }
   }
  },
  {
   "cell_type": "markdown",
   "source": [
    "You are a fruitshop owner and you have A fruits each with different size, denoted by array B. You also have a special essence with which you attract customers. You can use the essence on any number of fruits. You need to find the minimum number of fruits on which you have to use the essence so that the following conditions hold:\n",
    "\n",
    "If you have used the essence on the ith fruit, then you have to use it on all fruits having size greater than the ith fruit.\n",
    "\n",
    "There must be atleast one subarray(contiguous) of length atleast C, such that the number of fruits having essence is greater than the number of fruits not having essence in that subarray.\n",
    "\n",
    "1 <= A <= 10^5\n",
    "\n",
    "1 <= B[i] <= A\n",
    "\n",
    "1 <= C <= A\n",
    "\n",
    "The input consists of A, the array B and an integer C."
   ],
   "metadata": {
    "collapsed": false,
    "pycharm": {
     "name": "#%% md\n"
    }
   }
  },
  {
   "cell_type": "code",
   "execution_count": null,
   "outputs": [],
   "source": [],
   "metadata": {
    "collapsed": false,
    "pycharm": {
     "name": "#%%\n"
    }
   }
  },
  {
   "cell_type": "code",
   "execution_count": null,
   "outputs": [],
   "source": [
    "r = 6\n",
    "c = 7\n",
    "n = 3\n",
    "grid =['.......', '...O...', '....O..',\n",
    "       '...O...','.......', 'OO.....', 'OO.....']"
   ],
   "metadata": {
    "collapsed": false,
    "pycharm": {
     "name": "#%%\n"
    }
   }
  },
  {
   "cell_type": "code",
   "execution_count": 7,
   "outputs": [
    {
     "name": "stdout",
     "output_type": "stream",
     "text": [
      "False\n"
     ]
    }
   ],
   "source": [
    "def canSum(targetSum,numbers,memo={}):\n",
    "    if targetSum in memo:\n",
    "        return memo[targetSum]\n",
    "    if targetSum==0:return True\n",
    "    if targetSum<0:return False\n",
    "\n",
    "    for number in numbers:\n",
    "        remainder = targetSum - number\n",
    "        if canSum(remainder,numbers,memo):\n",
    "            memo[targetSum] = True\n",
    "            return True\n",
    "    memo[targetSum] = False\n",
    "    return False\n",
    "print(canSum(300,[7,14]))"
   ],
   "metadata": {
    "collapsed": false,
    "pycharm": {
     "name": "#%%\n"
    }
   }
  },
  {
   "cell_type": "code",
   "execution_count": 14,
   "outputs": [
    {
     "name": "stdout",
     "output_type": "stream",
     "text": [
      "[2, 2, 3]\n",
      "[2, 2, 3]\n",
      "[2, 2, 3]\n",
      "[2, 2, 2, 2]\n",
      "[7, 7, 7, 7, 7, 7, 7, 7, 7, 7, 7, 7, 7, 7, 7, 7, 7, 7, 7, 7, 7, 7, 7, 7, 7, 7, 7, 7, 7, 7, 7, 7, 7, 7, 7, 7, 7, 7, 7, 7, 7, 7, 2, 2, 2]\n"
     ]
    }
   ],
   "source": [
    "\n",
    "def howSum(targetSum,numbers,memo={}):\n",
    "    if targetSum in memo:\n",
    "        return memo[targetSum]\n",
    "    if targetSum == 0:return []\n",
    "    if targetSum<0:return None\n",
    "\n",
    "    for number in numbers:\n",
    "        remainder = targetSum - number\n",
    "        remainderResult = howSum(remainder,numbers,memo)\n",
    "        if remainderResult is not None:\n",
    "            memo[targetSum] = [number]+remainderResult\n",
    "            return memo[targetSum]\n",
    "    memo[targetSum] = None\n",
    "    return None\n",
    "\n",
    "# print(howSum(7,[2,3]))\n",
    "# print(howSum(7,[5,3,4, 7]))\n",
    "# print(howSum(7  ,[2,4]))\n",
    "# print(howSum(8,[2,3,5]))\n",
    "# print(howSum(300,[7,14]))"
   ],
   "metadata": {
    "collapsed": false,
    "pycharm": {
     "name": "#%%\n"
    }
   }
  },
  {
   "cell_type": "code",
   "execution_count": 4,
   "outputs": [
    {
     "name": "stdout",
     "output_type": "stream",
     "text": [
      "a\n",
      "b\n",
      "d\n",
      "f\n",
      "c\n",
      "e\n"
     ]
    }
   ],
   "source": [
    "graph = {\n",
    "    'a':['c','b'],\n",
    "    'b':['d'],\n",
    "    'c':['e'],\n",
    "    'd':['f'],\n",
    "    'e':[],\n",
    "    'f':[]\n",
    "}\n",
    "\n",
    "def depthFirstPrint(graph,start):\n",
    "    stack =[start]\n",
    "    while stack:\n",
    "        node = stack.pop()\n",
    "        print(node)\n",
    "        for neighbor in graph[node]:\n",
    "            stack.append(neighbor)\n",
    "\n",
    "depthFirstPrint(graph,'a')"
   ],
   "metadata": {
    "collapsed": false,
    "pycharm": {
     "name": "#%%\n"
    }
   }
  },
  {
   "cell_type": "code",
   "execution_count": 5,
   "outputs": [
    {
     "name": "stdout",
     "output_type": "stream",
     "text": [
      "a\n",
      "c\n",
      "e\n",
      "b\n",
      "d\n",
      "f\n"
     ]
    }
   ],
   "source": [
    "def depthFirstPrint(graph,start):\n",
    "    print(start)\n",
    "    for node in graph[start]:\n",
    "        depthFirstPrint(graph,node)\n",
    "\n",
    "depthFirstPrint(graph,'a')"
   ],
   "metadata": {
    "collapsed": false,
    "pycharm": {
     "name": "#%%\n"
    }
   }
  },
  {
   "cell_type": "code",
   "execution_count": 6,
   "outputs": [
    {
     "name": "stdout",
     "output_type": "stream",
     "text": [
      "a\n",
      "c\n",
      "b\n",
      "e\n",
      "d\n",
      "f\n",
      "None\n"
     ]
    }
   ],
   "source": [
    "def breadthFirstPrint(graph,start):\n",
    "    queue = [start]\n",
    "    while queue:\n",
    "        node = queue.pop(0)\n",
    "        print(node)\n",
    "        for neighbor in graph[node]:\n",
    "            queue.append(neighbor)\n",
    "print(breadthFirstPrint(graph,'a'))"
   ],
   "metadata": {
    "collapsed": false,
    "pycharm": {
     "name": "#%%\n"
    }
   }
  },
  {
   "cell_type": "code",
   "execution_count": 9,
   "outputs": [
    {
     "name": "stdout",
     "output_type": "stream",
     "text": [
      "[25, 25, 25, 25]\n"
     ]
    }
   ],
   "source": [
    "def bestSum(targetSum,numbers,memo={}):\n",
    "    if targetSum in memo:\n",
    "        return memo[targetSum]\n",
    "    if targetSum == 0:return []\n",
    "    if targetSum<0:return None\n",
    "\n",
    "    shortestCombination = None\n",
    "\n",
    "    for number in numbers:\n",
    "        remainder = targetSum - number\n",
    "        remainderResult = bestSum(remainder,numbers,memo)\n",
    "        if remainderResult is not None:\n",
    "            combination = [number]+remainderResult\n",
    "            if shortestCombination is None or len(combination)<len(shortestCombination):\n",
    "                shortestCombination = combination\n",
    "\n",
    "    memo[targetSum] = shortestCombination\n",
    "    return shortestCombination\n",
    "print(bestSum(100,[1,2,5,25]))"
   ],
   "metadata": {
    "collapsed": false,
    "pycharm": {
     "name": "#%%\n"
    }
   }
  },
  {
   "cell_type": "code",
   "execution_count": 12,
   "outputs": [
    {
     "name": "stdout",
     "output_type": "stream",
     "text": [
      "True\n",
      "False\n"
     ]
    }
   ],
   "source": [
    "def canConstruct(target,wordBank):\n",
    "    if len(target)==0:return True\n",
    "\n",
    "    for word in wordBank:\n",
    "        try:\n",
    "            if target.index(word) == 0:\n",
    "                suffix = target[len(word):]\n",
    "            if canConstruct(suffix,wordBank):\n",
    "                return True\n",
    "        except:\n",
    "            pass\n",
    "    return False\n",
    "\n",
    "print(canConstruct(\"abcdef\",[\"ab\",\"abc\",\"cd\",\"def\",\"abcd\"]))\n",
    "print(canConstruct(\"skateboard\",[\"bo\",\"rd\",\"ate\",\"t\",\"ska\",\"sk\",\"boar\"]))"
   ],
   "metadata": {
    "collapsed": false,
    "pycharm": {
     "name": "#%%\n"
    }
   }
  },
  {
   "cell_type": "code",
   "execution_count": 10,
   "outputs": [
    {
     "name": "stdout",
     "output_type": "stream",
     "text": [
      "ato\n"
     ]
    },
    {
     "ename": "ValueError",
     "evalue": "substring not found",
     "output_type": "error",
     "traceback": [
      "\u001B[1;31m---------------------------------------------------------------------------\u001B[0m",
      "\u001B[1;31mValueError\u001B[0m                                Traceback (most recent call last)",
      "Input \u001B[1;32mIn [10]\u001B[0m, in \u001B[0;36m<cell line: 4>\u001B[1;34m()\u001B[0m\n\u001B[0;32m      2\u001B[0m target \u001B[38;5;241m=\u001B[39m \u001B[38;5;124m\"\u001B[39m\u001B[38;5;124mpotato\u001B[39m\u001B[38;5;124m\"\u001B[39m\n\u001B[0;32m      3\u001B[0m \u001B[38;5;28mprint\u001B[39m(target[\u001B[38;5;28mlen\u001B[39m(word):])\n\u001B[1;32m----> 4\u001B[0m \u001B[38;5;28mprint\u001B[39m(\u001B[43mtarget\u001B[49m\u001B[38;5;241;43m.\u001B[39;49m\u001B[43mindex\u001B[49m\u001B[43m(\u001B[49m\u001B[38;5;124;43m'\u001B[39;49m\u001B[38;5;124;43mabv\u001B[39;49m\u001B[38;5;124;43m'\u001B[39;49m\u001B[43m)\u001B[49m)\n",
      "\u001B[1;31mValueError\u001B[0m: substring not found"
     ]
    }
   ],
   "source": [
    "word = 'pot'\n",
    "target = \"potato\"\n",
    "print(target[len(word):])\n",
    "print(target.index('abv'))"
   ],
   "metadata": {
    "collapsed": false,
    "pycharm": {
     "name": "#%%\n"
    }
   }
  },
  {
   "cell_type": "code",
   "execution_count": null,
   "outputs": [],
   "source": [],
   "metadata": {
    "collapsed": false,
    "pycharm": {
     "name": "#%%\n"
    }
   }
  }
 ],
 "metadata": {
  "kernelspec": {
   "display_name": "Python 3",
   "language": "python",
   "name": "python3"
  },
  "language_info": {
   "codemirror_mode": {
    "name": "ipython",
    "version": 2
   },
   "file_extension": ".py",
   "mimetype": "text/x-python",
   "name": "python",
   "nbconvert_exporter": "python",
   "pygments_lexer": "ipython2",
   "version": "2.7.6"
  }
 },
 "nbformat": 4,
 "nbformat_minor": 0
}