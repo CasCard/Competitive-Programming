{
 "cells": [
  {
   "cell_type": "markdown",
   "source": [
    "You are given some ranges [l, r] and a pseudocode to check whether i exists in the range or not. The pseudocode:\n",
    "\n",
    "```\n",
    "while(l < r) {\n",
    "    int m = (l+r)/2\n",
    "    if(i < m) {\n",
    "        r = m-1;\n",
    "    } else if(i > m) {\n",
    "        l = m+1;\n",
    "    } else {\n",
    "        cout << \"Found\";\n",
    "        break;\n",
    "    }\n",
    "```\n",
    "You need to find the probability that the psudocode will fail. For example, given range [2, 9], the probability that it will fail is 1/2, since 2, 4, 6 and 9 will not be found with the code and total number of elements is 8, so probability 4/8 = 1/2. You have to answer the queries modulo 10^9+7, so the final answer for the above range would be 500000004. The input is a 2D array where each element array is of size 2 denoting the range [l, r].\n",
    "\n",
    "1 <= l <= r <= 10^6 for each query.\n",
    "\n",
    "The input consists of a 2d array."
   ],
   "metadata": {
    "collapsed": false,
    "pycharm": {
     "name": "#%% md\n"
    }
   }
  },
  {
   "cell_type": "code",
   "execution_count": null,
   "outputs": [],
   "source": [],
   "metadata": {
    "collapsed": false,
    "pycharm": {
     "name": "#%%\n"
    }
   }
  },
  {
   "cell_type": "code",
   "execution_count": null,
   "outputs": [],
   "source": [],
   "metadata": {
    "collapsed": false,
    "pycharm": {
     "name": "#%%\n"
    }
   }
  },
  {
   "cell_type": "code",
   "execution_count": null,
   "outputs": [],
   "source": [],
   "metadata": {
    "collapsed": false,
    "pycharm": {
     "name": "#%%\n"
    }
   }
  },
  {
   "cell_type": "code",
   "execution_count": null,
   "outputs": [],
   "source": [],
   "metadata": {
    "collapsed": false,
    "pycharm": {
     "name": "#%%\n"
    }
   }
  },
  {
   "cell_type": "markdown",
   "source": [
    "Question 2\n",
    "\n",
    "You are given a string A, which only consists of characters 'R' and 'G'. You need to pick 4 elements such that they form a good subsequence. A good subsequence is defined as substrings in which there are 2 'G' followed by 2 'R' or vice versa, namely \"RRGG\" or \"GGRR\". You need to find the number of ways in which you can get good subsequences from the string.\n",
    "\n",
    "1 <= |A| <= 10^6\n",
    "\n",
    "Input consists of the string A."
   ],
   "metadata": {
    "collapsed": false,
    "pycharm": {
     "name": "#%% md\n"
    }
   }
  },
  {
   "cell_type": "code",
   "execution_count": 4,
   "outputs": [
    {
     "name": "stdout",
     "output_type": "stream",
     "text": [
      "GRGGRGR\n",
      "{'G': [0, 2, 3, 5], 'R': [1, 4, 6]}\n"
     ]
    }
   ],
   "source": [
    "test_case_1 = \"GRGGRGR\" # this has 6 good subsequences\n",
    "\n",
    "print(test_case_1)\n",
    "# find store index of 'G' and 'R' of test_case_1 in dictonary\n",
    "store_index = {\n",
    "    'G': [],\n",
    "    'R': []\n",
    "}\n",
    "for i in range(len(test_case_1)):\n",
    "    if test_case_1[i] == 'G':\n",
    "        store_index['G'] += [i]\n",
    "    elif test_case_1[i] == 'R':\n",
    "        store_index['R'] += [i]\n",
    "\n",
    "print(store_index)"
   ],
   "metadata": {
    "collapsed": false,
    "pycharm": {
     "name": "#%%\n"
    }
   }
  },
  {
   "cell_type": "code",
   "execution_count": 60,
   "outputs": [
    {
     "name": "stdout",
     "output_type": "stream",
     "text": [
      "30\n"
     ]
    }
   ],
   "source": [
    "test_case_2 = \"RRGRGGGRRR\" # this has 30 good subsequences\n",
    "\n",
    "substring_A = \"RRGG\"\n",
    "substring_B = \"GGRR\"\n",
    "\n",
    "# test_case_2 = \"GRGGRGR\" # this has 30 good subsequences\n",
    "# substring_A = \"RRGG\"\n",
    "\n",
    "# test_case_2 = \"subsequence\" # this has 30 good subsequences\n",
    "# substring_A = \"sue\"\n",
    "\n",
    "# create a table of size (len(test_case_2) + 1) * 5)\n",
    "def find_subsequence(test_case,substring):\n",
    "    table = [[0 for i in range(len(substring)+1)] for j in range(len(test_case) + 1)]\n",
    "\n",
    "    # make the first column as 1\n",
    "    for i in range(len(test_case)):\n",
    "        table[i][0] = 1\n",
    "\n",
    "    for i in range(1,len(test_case)+1):\n",
    "        for j in range(1,len(substring)+1):\n",
    "            if test_case[i-1] == substring[j-1]:\n",
    "                table[i][j] = table[i-1][j-1] + table[i-1][j]\n",
    "            else:\n",
    "                table[i][j] = table[i-1][j]\n",
    "\n",
    "    # print(*table, sep='\\n')\n",
    "    return table[len(test_case)][len(substring)]\n",
    "\n",
    "print(find_subsequence(test_case_2,substring_A)+find_subsequence(test_case_2,substring_B))"
   ],
   "metadata": {
    "collapsed": false,
    "pycharm": {
     "name": "#%%\n"
    }
   }
  },
  {
   "cell_type": "code",
   "execution_count": 66,
   "outputs": [
    {
     "name": "stdout",
     "output_type": "stream",
     "text": [
      "0\n"
     ]
    }
   ],
   "source": [
    "S1 = \"grggrgr\" # this has 30 good subsequences\n",
    "S2 = \"rrgg\"\n",
    "m = len(S1)\n",
    "n = len(S2)\n",
    "count = [0 for i in range(n+1)]\n",
    "for i in range(m):\n",
    "    for j in range(n-1, -1, -1):\n",
    "        if S1[i] == S2[j]:\n",
    "            count[j] += 1 if j == 0 else count[j-1]\n",
    "print(count[n-1])"
   ],
   "metadata": {
    "collapsed": false,
    "pycharm": {
     "name": "#%%\n"
    }
   }
  },
  {
   "cell_type": "code",
   "execution_count": null,
   "outputs": [],
   "source": [],
   "metadata": {
    "collapsed": false,
    "pycharm": {
     "name": "#%%\n"
    }
   }
  },
  {
   "cell_type": "markdown",
   "source": [
    "You are a fruitshop owner and you have A fruits each with different size, denoted by array B. You also have a special essence with which you attract customers. You can use the essence on any number of fruits. You need to find the minimum number of fruits on which you have to use the essence so that the following conditions hold:\n",
    "\n",
    "If you have used the essence on the ith fruit, then you have to use it on all fruits having size greater than the ith fruit.\n",
    "\n",
    "There must be atleast one subarray(contiguous) of length atleast C, such that the number of fruits having essence is greater than the number of fruits not having essence in that subarray.\n",
    "\n",
    "1 <= A <= 10^5\n",
    "\n",
    "1 <= B[i] <= A\n",
    "\n",
    "1 <= C <= A\n",
    "\n",
    "The input consists of A, the array B and an integer C."
   ],
   "metadata": {
    "collapsed": false,
    "pycharm": {
     "name": "#%% md\n"
    }
   }
  },
  {
   "cell_type": "code",
   "execution_count": null,
   "outputs": [],
   "source": [],
   "metadata": {
    "collapsed": false,
    "pycharm": {
     "name": "#%%\n"
    }
   }
  }
 ],
 "metadata": {
  "kernelspec": {
   "display_name": "Python 3",
   "language": "python",
   "name": "python3"
  },
  "language_info": {
   "codemirror_mode": {
    "name": "ipython",
    "version": 2
   },
   "file_extension": ".py",
   "mimetype": "text/x-python",
   "name": "python",
   "nbconvert_exporter": "python",
   "pygments_lexer": "ipython2",
   "version": "2.7.6"
  }
 },
 "nbformat": 4,
 "nbformat_minor": 0
}